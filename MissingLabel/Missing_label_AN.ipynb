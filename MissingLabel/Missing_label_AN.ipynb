{
 "cells": [
  {
   "cell_type": "code",
   "execution_count": 1,
   "id": "b96a90fb",
   "metadata": {},
   "outputs": [],
   "source": [
    "# Libraries Needed\n",
    "import os\n",
    "import re\n",
    "import sys\n",
    "import time\n",
    "from datetime import datetime\n",
    "import pandas as pd\n",
    "import numpy as np\n",
    "from typing import Any, List, Tuple, Union\n",
    "import sklearn\n",
    "from sklearn.model_selection import KFold, train_test_split\n",
    "from sklearn.preprocessing import LabelEncoder\n",
    "from sklearn.metrics import accuracy_score, f1_score, precision_score, confusion_matrix\n",
    "import tensorflow\n",
    "from tensorflow.keras import backend as K\n",
    "from tensorflow.keras.preprocessing import image\n",
    "from tensorflow.keras.preprocessing.image import ImageDataGenerator\n",
    "from tensorflow.keras.callbacks import EarlyStopping, LearningRateScheduler, ModelCheckpoint, CSVLogger\n",
    "from tensorflow.keras import regularizers\n",
    "from tensorflow import keras\n",
    "from tensorflow.keras.models import Sequential\n",
    "from tensorflow.keras.layers import Dense, Dropout, Flatten,BatchNormalization\n",
    "from tensorflow.keras.layers import Conv2D, MaxPooling2D\n",
    "from tensorflow.keras.models import load_model\n",
    "from tensorflow.keras.utils import to_categorical\n",
    "import pickle\n",
    "from tqdm import tqdm"
   ]
  },
  {
   "cell_type": "code",
   "execution_count": 62,
   "id": "c475b9c9",
   "metadata": {},
   "outputs": [],
   "source": [
    "# create dataset start\n",
    "def create_dataset(df):\n",
    "    \n",
    "    X_dataset = []\n",
    "    img_list = df['Path'].tolist()\n",
    "    for i in tqdm(range(df.shape[0])):\n",
    "        \n",
    "        img = image.load_img(img_list[i])\n",
    "        img = image.img_to_array(img)\n",
    "        img = img / 255.\n",
    "        X_dataset.append(img)\n",
    "\n",
    "    X = np.array(X_dataset)\n",
    "  # drop unnecessary columns not used for training\n",
    "    y = np.array(df.drop(['Index', 'Filename','Path','Emotion'], axis=1))\n",
    "\n",
    "    return X, y\n",
    "# create dataset end\n",
    "def label_binarizer(y_intensity,threshold_val):\n",
    "    return np.where(y_intensity<threshold_val, 0, 1)\n",
    "def subset_accuracy(y_true,y_pred):\n",
    "    y_true = tensorflow.py_function(label_binarizer,(y_true,0.5), tensorflow.double)\n",
    "    y_pred = tensorflow.py_function(label_binarizer,(y_pred,0.5), tensorflow.double)\n",
    "    return tensorflow.py_function(accuracy_score,(y_true,y_pred),tensorflow.double)\n",
    "\n",
    "def load_model_data(model_path, opt_path):\n",
    "    model = load_model(model_path,custom_objects={\"subset_accuracy\":subset_accuracy})\n",
    "    return model\n",
    "# define Assume Negative loss\n",
    "def loss_an(y_pred, y_true):\n",
    "    bce_loss =tensorflow.keras.losses.BinaryCrossentropy()\n",
    "    return bce_loss(y_pred,y_true)\n",
    "\n",
    "# create model start\n",
    "def create_model(width=224, height=224):\n",
    "  # load pretrained model 'VGG16'\n",
    "    base_model = keras.applications.VGG16(\n",
    "    include_top=False,\n",
    "    weights=\"imagenet\",\n",
    "    input_shape=(width, height, 3))\n",
    "    base_model.trainable = False\n",
    "    model = Sequential()\n",
    "    model.add(base_model)\n",
    "    model.add(Flatten())\n",
    "    \n",
    "    model.add(Dense(12, activation='sigmoid', name='final_au', kernel_initializer='glorot_normal'))\n",
    "    \n",
    "  # sigmoid classification for 12 au labels\n",
    "    model.compile(optimizer='adam', loss=loss_an, metrics=[subset_accuracy])\n",
    "    return model\n",
    "# create model end\n",
    "\n",
    "\n",
    "# create train_ER_model\n",
    "# def train_AU_model(X_train, y_train, model):\n",
    "#   start_time = time.time()\n",
    "#   EPOCHS = 20\n",
    "#   kfold = KFold(3, shuffle=True, random_state=123)\n",
    "#   for f, (trn_ind, val_ind) in enumerate(kfold.split(X_train)):\n",
    "#     print();\n",
    "#     print('#' * 50)\n",
    "#     print('Fold: ', f + 1)\n",
    "#     print('#' * 50)\n",
    "\n",
    "#     # Training Data\n",
    "#     x_train = X_train[trn_ind]\n",
    "#     y_trn = y_train[trn_ind]\n",
    "\n",
    "#     # Validation Data\n",
    "#     x_val = X_train[val_ind]\n",
    "#     y_val = y_train[val_ind]\n",
    "\n",
    "#     # Define start and end epoch for each folds\n",
    "#     fold_start_epoch = f * EPOCHS\n",
    "#     fold_end_epoch = EPOCHS * (f + 1)\n",
    "#     # Create callbacks\n",
    "#     # checkpoint callback\n",
    "#     checkpoint_cb = MyModelCheckpoint(\n",
    "#       os.path.join(run_dir, 'model-{epoch:02d}-{val_loss:.2f}.hdf5'),\n",
    "#       monitor='val_accuracy', verbose=1)\n",
    "#     # learning rate callback\n",
    "#     lr_sched_cb = step_decay_schedule(initial_lr=1e-3, decay_factor=0.75, step_size=2)\n",
    "#     # early stopping callback\n",
    "#     early = EarlyStopping(monitor='subset_accuracy', min_delta=0.001, patience=15, verbose=1, mode='auto')\n",
    "#     # csv log callback\n",
    "#     log_csv = CSVLogger(f'{run_dir}/model_{f + 1}_{now}log.csv', separator=',', append=False)\n",
    "\n",
    "#     # callbacks list\n",
    "#     cb = [checkpoint_cb, lr_sched_cb, early, log_csv]\n",
    "\n",
    "#     model.fit(x_train, y_trn, initial_epoch=fold_start_epoch, epochs=fold_end_epoch,\n",
    "#               callbacks=cb,\n",
    "#               batch_size=32,\n",
    "#               validation_data=(x_val, y_val))\n",
    "\n",
    "#     elapsed_time = time.time() - start_time\n",
    "#     print(\"Elapsed time: {}\".format(elapsed_time))\n"
   ]
  },
  {
   "cell_type": "code",
   "execution_count": 63,
   "id": "c43c81b8",
   "metadata": {},
   "outputs": [],
   "source": [
    "# create AU model\n",
    "model = create_model()"
   ]
  },
  {
   "cell_type": "code",
   "execution_count": 64,
   "id": "dbc89a2e",
   "metadata": {},
   "outputs": [
    {
     "data": {
      "text/plain": [
       "<keras.engine.sequential.Sequential at 0x2537f62eaf0>"
      ]
     },
     "execution_count": 64,
     "metadata": {},
     "output_type": "execute_result"
    }
   ],
   "source": [
    "model"
   ]
  },
  {
   "cell_type": "code",
   "execution_count": 58,
   "id": "a4025131",
   "metadata": {},
   "outputs": [
    {
     "name": "stdout",
     "output_type": "stream",
     "text": [
      "Model: \"sequential_14\"\n",
      "_________________________________________________________________\n",
      " Layer (type)                Output Shape              Param #   \n",
      "=================================================================\n",
      " vgg16 (Functional)          (None, 7, 7, 512)         14714688  \n",
      "                                                                 \n",
      " flatten_14 (Flatten)        (None, 25088)             0         \n",
      "                                                                 \n",
      " final_au (Dense)            (None, 12)                301068    \n",
      "                                                                 \n",
      "=================================================================\n",
      "Total params: 15,015,756\n",
      "Trainable params: 301,068\n",
      "Non-trainable params: 14,714,688\n",
      "_________________________________________________________________\n"
     ]
    }
   ],
   "source": [
    "model.summary()"
   ]
  },
  {
   "cell_type": "code",
   "execution_count": 59,
   "id": "cfc44b61",
   "metadata": {
    "scrolled": false
   },
   "outputs": [
    {
     "data": {
      "text/html": [
       "<div>\n",
       "<style scoped>\n",
       "    .dataframe tbody tr th:only-of-type {\n",
       "        vertical-align: middle;\n",
       "    }\n",
       "\n",
       "    .dataframe tbody tr th {\n",
       "        vertical-align: top;\n",
       "    }\n",
       "\n",
       "    .dataframe thead th {\n",
       "        text-align: right;\n",
       "    }\n",
       "</style>\n",
       "<table border=\"1\" class=\"dataframe\">\n",
       "  <thead>\n",
       "    <tr style=\"text-align: right;\">\n",
       "      <th></th>\n",
       "      <th>Index</th>\n",
       "      <th>Filename</th>\n",
       "      <th>Path</th>\n",
       "      <th>Emotion</th>\n",
       "      <th>AU1</th>\n",
       "      <th>AU2</th>\n",
       "      <th>AU4</th>\n",
       "      <th>AU5</th>\n",
       "      <th>AU6</th>\n",
       "      <th>AU9</th>\n",
       "      <th>AU12</th>\n",
       "      <th>AU15</th>\n",
       "      <th>AU17</th>\n",
       "      <th>AU20</th>\n",
       "      <th>AU25</th>\n",
       "      <th>AU26</th>\n",
       "    </tr>\n",
       "  </thead>\n",
       "  <tbody>\n",
       "    <tr>\n",
       "      <th>0</th>\n",
       "      <td>0</td>\n",
       "      <td>SN001Y_AngerDescribed_TrailNo_1011.jpg</td>\n",
       "      <td>C:\\Users\\user\\Documents\\MSc Computer\\EmotionDe...</td>\n",
       "      <td>anger</td>\n",
       "      <td>0</td>\n",
       "      <td>0</td>\n",
       "      <td>1</td>\n",
       "      <td>0</td>\n",
       "      <td>0</td>\n",
       "      <td>0</td>\n",
       "      <td>0</td>\n",
       "      <td>0</td>\n",
       "      <td>0</td>\n",
       "      <td>0</td>\n",
       "      <td>0</td>\n",
       "      <td>0</td>\n",
       "    </tr>\n",
       "    <tr>\n",
       "      <th>1</th>\n",
       "      <td>1</td>\n",
       "      <td>SN001Y_AngerDescribed_TrailNo_1012.jpg</td>\n",
       "      <td>C:\\Users\\user\\Documents\\MSc Computer\\EmotionDe...</td>\n",
       "      <td>anger</td>\n",
       "      <td>0</td>\n",
       "      <td>0</td>\n",
       "      <td>2</td>\n",
       "      <td>0</td>\n",
       "      <td>0</td>\n",
       "      <td>0</td>\n",
       "      <td>0</td>\n",
       "      <td>0</td>\n",
       "      <td>0</td>\n",
       "      <td>0</td>\n",
       "      <td>0</td>\n",
       "      <td>0</td>\n",
       "    </tr>\n",
       "    <tr>\n",
       "      <th>2</th>\n",
       "      <td>2</td>\n",
       "      <td>SN001Y_AngerDescribed_TrailNo_1013.jpg</td>\n",
       "      <td>C:\\Users\\user\\Documents\\MSc Computer\\EmotionDe...</td>\n",
       "      <td>anger</td>\n",
       "      <td>0</td>\n",
       "      <td>0</td>\n",
       "      <td>3</td>\n",
       "      <td>0</td>\n",
       "      <td>0</td>\n",
       "      <td>0</td>\n",
       "      <td>0</td>\n",
       "      <td>0</td>\n",
       "      <td>0</td>\n",
       "      <td>0</td>\n",
       "      <td>0</td>\n",
       "      <td>0</td>\n",
       "    </tr>\n",
       "    <tr>\n",
       "      <th>3</th>\n",
       "      <td>3</td>\n",
       "      <td>SN001Y_AngerDescribed_TrailNo_1014.jpg</td>\n",
       "      <td>C:\\Users\\user\\Documents\\MSc Computer\\EmotionDe...</td>\n",
       "      <td>anger</td>\n",
       "      <td>0</td>\n",
       "      <td>0</td>\n",
       "      <td>4</td>\n",
       "      <td>0</td>\n",
       "      <td>0</td>\n",
       "      <td>0</td>\n",
       "      <td>0</td>\n",
       "      <td>0</td>\n",
       "      <td>0</td>\n",
       "      <td>0</td>\n",
       "      <td>0</td>\n",
       "      <td>0</td>\n",
       "    </tr>\n",
       "    <tr>\n",
       "      <th>4</th>\n",
       "      <td>4</td>\n",
       "      <td>SN001Y_AngerDescribed_TrailNo_1015.jpg</td>\n",
       "      <td>C:\\Users\\user\\Documents\\MSc Computer\\EmotionDe...</td>\n",
       "      <td>anger</td>\n",
       "      <td>0</td>\n",
       "      <td>0</td>\n",
       "      <td>4</td>\n",
       "      <td>0</td>\n",
       "      <td>0</td>\n",
       "      <td>0</td>\n",
       "      <td>0</td>\n",
       "      <td>0</td>\n",
       "      <td>0</td>\n",
       "      <td>0</td>\n",
       "      <td>0</td>\n",
       "      <td>0</td>\n",
       "    </tr>\n",
       "  </tbody>\n",
       "</table>\n",
       "</div>"
      ],
      "text/plain": [
       "   Index                                Filename  \\\n",
       "0      0  SN001Y_AngerDescribed_TrailNo_1011.jpg   \n",
       "1      1  SN001Y_AngerDescribed_TrailNo_1012.jpg   \n",
       "2      2  SN001Y_AngerDescribed_TrailNo_1013.jpg   \n",
       "3      3  SN001Y_AngerDescribed_TrailNo_1014.jpg   \n",
       "4      4  SN001Y_AngerDescribed_TrailNo_1015.jpg   \n",
       "\n",
       "                                                Path Emotion  AU1  AU2  AU4  \\\n",
       "0  C:\\Users\\user\\Documents\\MSc Computer\\EmotionDe...   anger    0    0    1   \n",
       "1  C:\\Users\\user\\Documents\\MSc Computer\\EmotionDe...   anger    0    0    2   \n",
       "2  C:\\Users\\user\\Documents\\MSc Computer\\EmotionDe...   anger    0    0    3   \n",
       "3  C:\\Users\\user\\Documents\\MSc Computer\\EmotionDe...   anger    0    0    4   \n",
       "4  C:\\Users\\user\\Documents\\MSc Computer\\EmotionDe...   anger    0    0    4   \n",
       "\n",
       "   AU5  AU6  AU9  AU12  AU15  AU17  AU20  AU25  AU26  \n",
       "0    0    0    0     0     0     0     0     0     0  \n",
       "1    0    0    0     0     0     0     0     0     0  \n",
       "2    0    0    0     0     0     0     0     0     0  \n",
       "3    0    0    0     0     0     0     0     0     0  \n",
       "4    0    0    0     0     0     0     0     0     0  "
      ]
     },
     "execution_count": 59,
     "metadata": {},
     "output_type": "execute_result"
    }
   ],
   "source": [
    "# load disfa+ dataset\n",
    "disfa_df = pd.read_csv('AU_image_data.csv')\n",
    "disfa_df.head()"
   ]
  },
  {
   "cell_type": "code",
   "execution_count": 60,
   "id": "b4d533fc",
   "metadata": {},
   "outputs": [],
   "source": [
    "sample_df = disfa_df.sample(n=950)"
   ]
  },
  {
   "cell_type": "code",
   "execution_count": 61,
   "id": "d3eadec5",
   "metadata": {
    "scrolled": false
   },
   "outputs": [
    {
     "name": "stderr",
     "output_type": "stream",
     "text": [
      "100%|███████████████████████████████████████████████████████████████████████████████| 950/950 [00:07<00:00, 132.73it/s]\n"
     ]
    }
   ],
   "source": [
    "X,y = create_dataset(sample_df)"
   ]
  },
  {
   "cell_type": "code",
   "execution_count": 52,
   "id": "4bbebda6",
   "metadata": {
    "scrolled": true
   },
   "outputs": [
    {
     "data": {
      "text/plain": [
       "(950, 224, 224, 3)"
      ]
     },
     "execution_count": 52,
     "metadata": {},
     "output_type": "execute_result"
    }
   ],
   "source": [
    "X.shape"
   ]
  },
  {
   "cell_type": "code",
   "execution_count": 66,
   "id": "c01d6949",
   "metadata": {},
   "outputs": [],
   "source": [
    "y = label_binarizer(y,0.5)"
   ]
  },
  {
   "cell_type": "code",
   "execution_count": 67,
   "id": "6fac711f",
   "metadata": {},
   "outputs": [
    {
     "data": {
      "text/plain": [
       "(950, 12)"
      ]
     },
     "execution_count": 67,
     "metadata": {},
     "output_type": "execute_result"
    }
   ],
   "source": [
    "y.shape"
   ]
  },
  {
   "cell_type": "code",
   "execution_count": 68,
   "id": "23c02549",
   "metadata": {},
   "outputs": [
    {
     "name": "stdout",
     "output_type": "stream",
     "text": [
      "Epoch 1/10\n",
      "30/30 [==============================] - 461s 15s/step - loss: 1.5905 - subset_accuracy: 0.3612\n",
      "Epoch 2/10\n",
      "30/30 [==============================] - 393s 13s/step - loss: 0.7855 - subset_accuracy: 0.5266\n",
      "Epoch 3/10\n",
      "30/30 [==============================] - 410s 14s/step - loss: 0.6350 - subset_accuracy: 0.5259\n",
      "Epoch 4/10\n",
      "30/30 [==============================] - 325s 11s/step - loss: 0.5417 - subset_accuracy: 0.5713\n",
      "Epoch 5/10\n",
      "30/30 [==============================] - 314s 10s/step - loss: 0.4735 - subset_accuracy: 0.5863\n",
      "Epoch 6/10\n",
      "30/30 [==============================] - 286s 10s/step - loss: 0.4205 - subset_accuracy: 0.5993\n",
      "Epoch 7/10\n",
      "30/30 [==============================] - 292s 10s/step - loss: 0.3752 - subset_accuracy: 0.6226\n",
      "Epoch 8/10\n",
      "30/30 [==============================] - 285s 9s/step - loss: 0.3433 - subset_accuracy: 0.6409\n",
      "Epoch 9/10\n",
      "30/30 [==============================] - 288s 10s/step - loss: 0.3115 - subset_accuracy: 0.6519\n",
      "Epoch 10/10\n",
      "30/30 [==============================] - 291s 10s/step - loss: 0.2856 - subset_accuracy: 0.6744\n"
     ]
    },
    {
     "data": {
      "text/plain": [
       "<keras.callbacks.History at 0x2535543f610>"
      ]
     },
     "execution_count": 68,
     "metadata": {},
     "output_type": "execute_result"
    }
   ],
   "source": [
    "model.fit(X,y,epochs=10)"
   ]
  },
  {
   "cell_type": "code",
   "execution_count": null,
   "id": "76150be2",
   "metadata": {},
   "outputs": [],
   "source": []
  }
 ],
 "metadata": {
  "kernelspec": {
   "display_name": "Python 3 (ipykernel)",
   "language": "python",
   "name": "python3"
  },
  "language_info": {
   "codemirror_mode": {
    "name": "ipython",
    "version": 3
   },
   "file_extension": ".py",
   "mimetype": "text/x-python",
   "name": "python",
   "nbconvert_exporter": "python",
   "pygments_lexer": "ipython3",
   "version": "3.9.12"
  }
 },
 "nbformat": 4,
 "nbformat_minor": 5
}
